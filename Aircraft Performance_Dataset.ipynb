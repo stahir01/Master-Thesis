{
 "cells": [
  {
   "cell_type": "code",
   "execution_count": 1,
   "metadata": {},
   "outputs": [
    {
     "name": "stdout",
     "output_type": "stream",
     "text": [
      "Requirement already satisfied: SQLAlchemy==1.4.46 in /Library/Frameworks/Python.framework/Versions/3.10/lib/python3.10/site-packages (1.4.46)\n",
      "\n",
      "\u001b[1m[\u001b[0m\u001b[34;49mnotice\u001b[0m\u001b[1;39;49m]\u001b[0m\u001b[39;49m A new release of pip is available: \u001b[0m\u001b[31;49m23.3.2\u001b[0m\u001b[39;49m -> \u001b[0m\u001b[32;49m24.0\u001b[0m\n",
      "\u001b[1m[\u001b[0m\u001b[34;49mnotice\u001b[0m\u001b[1;39;49m]\u001b[0m\u001b[39;49m To update, run: \u001b[0m\u001b[32;49mpip3 install --upgrade pip\u001b[0m\n",
      "Note: you may need to restart the kernel to use updated packages.\n"
     ]
    }
   ],
   "source": [
    "pip install SQLAlchemy==1.4.46"
   ]
  },
  {
   "cell_type": "code",
   "execution_count": 2,
   "metadata": {},
   "outputs": [
    {
     "name": "stdout",
     "output_type": "stream",
     "text": [
      "Requirement already satisfied: pandasql in /Library/Frameworks/Python.framework/Versions/3.10/lib/python3.10/site-packages (0.7.3)\n",
      "Requirement already satisfied: numpy in /Library/Frameworks/Python.framework/Versions/3.10/lib/python3.10/site-packages (from pandasql) (1.24.2)\n",
      "Requirement already satisfied: pandas in /Library/Frameworks/Python.framework/Versions/3.10/lib/python3.10/site-packages (from pandasql) (1.5.2)\n",
      "Requirement already satisfied: sqlalchemy in /Library/Frameworks/Python.framework/Versions/3.10/lib/python3.10/site-packages (from pandasql) (1.4.46)\n",
      "Requirement already satisfied: python-dateutil>=2.8.1 in /Library/Frameworks/Python.framework/Versions/3.10/lib/python3.10/site-packages (from pandas->pandasql) (2.8.2)\n",
      "Requirement already satisfied: pytz>=2020.1 in /Library/Frameworks/Python.framework/Versions/3.10/lib/python3.10/site-packages (from pandas->pandasql) (2022.7)\n",
      "Requirement already satisfied: six>=1.5 in /Library/Frameworks/Python.framework/Versions/3.10/lib/python3.10/site-packages (from python-dateutil>=2.8.1->pandas->pandasql) (1.16.0)\n",
      "\n",
      "\u001b[1m[\u001b[0m\u001b[34;49mnotice\u001b[0m\u001b[1;39;49m]\u001b[0m\u001b[39;49m A new release of pip is available: \u001b[0m\u001b[31;49m23.3.2\u001b[0m\u001b[39;49m -> \u001b[0m\u001b[32;49m24.0\u001b[0m\n",
      "\u001b[1m[\u001b[0m\u001b[34;49mnotice\u001b[0m\u001b[1;39;49m]\u001b[0m\u001b[39;49m To update, run: \u001b[0m\u001b[32;49mpip3 install --upgrade pip\u001b[0m\n",
      "Note: you may need to restart the kernel to use updated packages.\n"
     ]
    }
   ],
   "source": [
    "pip install pandasql"
   ]
  },
  {
   "cell_type": "code",
   "execution_count": 3,
   "metadata": {},
   "outputs": [],
   "source": [
    "import pandas as pd\n",
    "import pandasql as ps\n",
    "import matplotlib.pyplot as plt\n",
    "import matplotlib.dates as mdates\n",
    "import seaborn as sns\n",
    "#from google.colab import drive\n",
    "\n",
    "#from google.colab import drive\n",
    "#drive.mount('/content/drive')"
   ]
  },
  {
   "attachments": {},
   "cell_type": "markdown",
   "metadata": {},
   "source": [
    "### **Dataset: Aircraft Performance (Aircraft Bluebook)**\n",
    "\n",
    "Taken from the following linK: https://www.kaggle.com/datasets/heitornunes/aircraft-performance-dataset-aircraft-bluebook/versions/11?resource=download&select=Airplane_Cleaned.csv\n",
    "\n",
    "\n",
    "This dataset contains 861 airplanes and 102 helicopters and their characteristics, such as Max Speed, Cruise Speed, Range, etc. Data wrangling is recommend for data analysis, since there's a lot of missing values, different data formats and units for the same features.\n",
    "\n"
   ]
  },
  {
   "attachments": {},
   "cell_type": "markdown",
   "metadata": {},
   "source": [
    "### ***Features:***<br>\n",
    "\n",
    "\n",
    "*   **Model:** Airplane's name.\n",
    "*  **Company:** Company's name.\n",
    "*   **Engine Type:** Engine type used in the airplane.\n",
    "*   **HP or lbs thr ea engine:** Shaft Power or Thrust for International Standard Atmosphere (ISA). Units: HP or lbf.\n",
    "* **Max speed Knots:** Airplane's maximum speed. Units: Knot or Mach.\n",
    "*  **Rcmnd cruise Knots:** Airplane's High cruise speed. Units: Knot.\n",
    "* **Stall Knots dirty:** Airplane's stall speed on \"dirty\" configuration (flaps out, gear down, etc.). Units: Knot.\n",
    "* **Fuel gal/lbs:** Airplane's fuel capacity. Units: gal or lb.\n",
    "*   **All eng service ceiling:** Airplane's maximum density-altitude with all engines working. Units: ft (as density-altitude).\n",
    "*   **Eng out service ceiling:** Airplane's maximum density-altitude with one engine working. Units: ft (as density-altitude).\n",
    "*   **All eng rate of climb:** Airplane's rate of climb with all engines working. Units: ft/min.\n",
    "*   **Takeoff over 50ft:** Airplane's climb speed during normal take-off for 50 ft obstacle. Units: ft/min.\n",
    "*   **Takeoff ground run:** Airplane's takeoff ground run. Units: ft.\n",
    "*   **Takeoff ground run:** Airplane's landing ground run. Units: ft.\n",
    "*   **Gross weight lbs:** Airplane's gross weight (a.k.a all-up weight). Units: lb\n",
    "*   **Empty weight lbs:** Airplane's gross weight (a.k.a manufacturer's empty weight ). Units: lb\n",
    "*   **Length ft/in:** Airplane's length. Units: ft + in.\n",
    "*   **Height ft/in:** Airplane's height. Units: ft + in.\n",
    "*   **Wingspan ft/in:** Airplane's wingspan. Units: ft + in.\n",
    "*   **Range N.M.:** Airplane's range. Units: N.m. (Nautical miles).\n",
    "\n",
    "\n",
    "\n",
    "\n"
   ]
  },
  {
   "cell_type": "code",
   "execution_count": null,
   "metadata": {},
   "outputs": [],
   "source": []
  }
 ],
 "metadata": {
  "kernelspec": {
   "display_name": "Python 3",
   "language": "python",
   "name": "python3"
  },
  "language_info": {
   "codemirror_mode": {
    "name": "ipython",
    "version": 3
   },
   "file_extension": ".py",
   "mimetype": "text/x-python",
   "name": "python",
   "nbconvert_exporter": "python",
   "pygments_lexer": "ipython3",
   "version": "3.10.8"
  },
  "orig_nbformat": 4
 },
 "nbformat": 4,
 "nbformat_minor": 2
}
